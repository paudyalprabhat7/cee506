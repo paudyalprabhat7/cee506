{
 "cells": [
  {
   "cell_type": "code",
   "execution_count": 3,
   "metadata": {},
   "outputs": [],
   "source": [
    "import pandas as pd\n",
    "import numpy as np"
   ]
  },
  {
   "cell_type": "code",
   "execution_count": 4,
   "metadata": {},
   "outputs": [],
   "source": [
    "class LCAReferenceFlows:\n",
    "    def __init__(self, functional_unit=100):\n",
    "        self.functional_unit = functional_unit\n",
    "        self.packaging_density = 70  #kg/m³\n",
    "        self.energy_per_load_MJ = 0.72  #MJ per load\n",
    "        self.reference_flows = self.calculate_reference_flows()\n",
    "\n",
    "    def calculate_reference_flows(self):\n",
    "        detergent_usage_A = 0.25 * self.functional_unit * 0.453592  #Convert lbs to kg\n",
    "        detergent_usage_B = 0.125 * self.functional_unit * 0.453592  #Convert lbs to kg\n",
    "\n",
    "        #Packaging calculations\n",
    "        packaging_A_kg = (detergent_usage_A / 10) * 0.5  #500 g = 0.5 kg\n",
    "        packaging_B_kg = (detergent_usage_B / 4) * 0.24  #240 g = 0.24 kg\n",
    "\n",
    "        #Heated water calculations\n",
    "        water_usage_A_kg = 20 * self.functional_unit  #kg of water\n",
    "        water_usage_B_kg = 20 * self.functional_unit  #kg of water\n",
    "\n",
    "        #Wastewater leaving system (assuming all used water becomes wastewater)\n",
    "        wastewater_A_m3 = water_usage_A_kg / 1000.0  #Convert kg to m³\n",
    "        wastewater_B_m3 = water_usage_B_kg / 1000.0  #Convert kg to m³\n",
    "\n",
    "        #Packaging to landfill (assuming all packaging ends up in landfill)\n",
    "        packaging_landfill_A_ft3 = (packaging_A_kg / self.packaging_density) * 35.3147  #Convert m³ to ft³\n",
    "        packaging_landfill_B_ft3 = (packaging_B_kg / self.packaging_density) * 35.3147  #Convert m³ to ft³\n",
    "\n",
    "        #Electricity consumption\n",
    "        electricity_A_kWh = (self.energy_per_load_MJ * self.functional_unit) / 3.6  #Convert MJ to kWh\n",
    "        electricity_B_kWh = (self.energy_per_load_MJ * self.functional_unit) / 3.6  #Convert MJ to kWh\n",
    "\n",
    "        data_converted = {\n",
    "            \"Measurement\": [\n",
    "                \"Packaging (kg)\",\n",
    "                \"Heated Water into System (kg)\",\n",
    "                \"Wastewater Leaving System (m³)\",\n",
    "                \"Detergent (kg)\",\n",
    "                \"Packaging to Landfill (ft³)\",\n",
    "                \"Electricity (kWh)\"\n",
    "            ],\n",
    "            \"Product A\": [\n",
    "                round(packaging_A_kg, 4),\n",
    "                round(water_usage_A_kg, 4),\n",
    "                round(wastewater_A_m3, 4),\n",
    "                round(detergent_usage_A, 4),\n",
    "                round(packaging_landfill_A_ft3, 4),\n",
    "                round(electricity_A_kWh, 4)\n",
    "            ],\n",
    "            \"Product B\": [\n",
    "                round(packaging_B_kg, 4),\n",
    "                round(water_usage_B_kg, 4),\n",
    "                round(wastewater_B_m3, 4),\n",
    "                round(detergent_usage_B, 4),\n",
    "                round(packaging_landfill_B_ft3, 4),\n",
    "                round(electricity_B_kWh, 4)\n",
    "            ],\n",
    "            \"Measurement Type\": [\n",
    "                \"Mass\",\n",
    "                \"Mass\",\n",
    "                \"Volume\",\n",
    "                \"Mass\",\n",
    "                \"Volume\",\n",
    "                \"Energy\"\n",
    "            ]\n",
    "        }\n",
    "\n",
    "        return pd.DataFrame(data_converted)\n",
    "\n",
    "    def get_reference_flows(self):\n",
    "        return self.reference_flows"
   ]
  },
  {
   "cell_type": "code",
   "execution_count": 5,
   "metadata": {},
   "outputs": [
    {
     "name": "stdout",
     "output_type": "stream",
     "text": [
      "                      Measurement  Product A  Product B Measurement Type\n",
      "0                  Packaging (kg)     0.5670     0.3402             Mass\n",
      "1   Heated Water into System (kg)  2000.0000  2000.0000             Mass\n",
      "2  Wastewater Leaving System (m³)     2.0000     2.0000           Volume\n",
      "3                  Detergent (kg)    11.3398     5.6699             Mass\n",
      "4     Packaging to Landfill (ft³)     0.2860     0.1716           Volume\n",
      "5               Electricity (kWh)    20.0000    20.0000           Energy\n"
     ]
    }
   ],
   "source": [
    "if __name__ == \"__main__\":\n",
    "    lca = LCAReferenceFlows()\n",
    "    df_converted = lca.get_reference_flows()\n",
    "    print(df_converted)"
   ]
  }
 ],
 "metadata": {
  "kernelspec": {
   "display_name": "base",
   "language": "python",
   "name": "python3"
  },
  "language_info": {
   "codemirror_mode": {
    "name": "ipython",
    "version": 3
   },
   "file_extension": ".py",
   "mimetype": "text/x-python",
   "name": "python",
   "nbconvert_exporter": "python",
   "pygments_lexer": "ipython3",
   "version": "3.11.7"
  }
 },
 "nbformat": 4,
 "nbformat_minor": 2
}
