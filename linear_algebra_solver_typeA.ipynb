{
 "cells": [
  {
   "cell_type": "code",
   "execution_count": 1,
   "metadata": {},
   "outputs": [],
   "source": [
    "from sympy import symbols, Eq, solve"
   ]
  },
  {
   "cell_type": "code",
   "execution_count": 4,
   "metadata": {},
   "outputs": [
    {
     "name": "stdout",
     "output_type": "stream",
     "text": [
      "{x1: 20.1241190488262, x2: -10.2014190488262, y1: -0.543351214318309, y2: 0.543351214318309}\n"
     ]
    }
   ],
   "source": [
    "x1, x2, y1, y2 = symbols('x1 x2 y1 y2')\n",
    "\n",
    "#defining the symbols - truck, diesel refining problem\n",
    "eq1 = Eq(-9.9227 + x1 + x2, 0)\n",
    "eq2 = Eq(y1 + y2, 0)\n",
    "eq3 = Eq(y1, -0.027 * x1)\n",
    "eq4 = Eq(x2, -18.775 * y2)\n",
    "\n",
    "#solving the system of equations\n",
    "solution = solve((eq1, eq2, eq3, eq4), (x1, x2, y1, y2))\n",
    "\n",
    "#print the solution\n",
    "print(solution)"
   ]
  },
  {
   "cell_type": "code",
   "execution_count": null,
   "metadata": {},
   "outputs": [
    {
     "name": "stdout",
     "output_type": "stream",
     "text": [
      "{x1: 11.0142315942212, x2: -0.534623324221185, y1: -4.86829036464576, y2: 13.7082903646458}\n"
     ]
    }
   ],
   "source": [
    "#defining the symbols - coal electricity and coal mass problem\n",
    "eq5 = Eq(-10.47960827+x1+x2, 0)\n",
    "eq6 = Eq(-8.84+y1+y2, 0)\n",
    "eq7 = Eq(y1, -0.442*x1)\n",
    "eq8 = Eq(x2, -0.039 * y2)\n",
    "\n",
    "#solving the system of equations\n",
    "solution = solve((eq5, eq6, eq7, eq8), (x1, x2, y1, y2))\n",
    "\n",
    "#print the solution\n",
    "print(solution)"
   ]
  }
 ],
 "metadata": {
  "kernelspec": {
   "display_name": "base",
   "language": "python",
   "name": "python3"
  },
  "language_info": {
   "codemirror_mode": {
    "name": "ipython",
    "version": 3
   },
   "file_extension": ".py",
   "mimetype": "text/x-python",
   "name": "python",
   "nbconvert_exporter": "python",
   "pygments_lexer": "ipython3",
   "version": "3.11.7"
  }
 },
 "nbformat": 4,
 "nbformat_minor": 2
}
